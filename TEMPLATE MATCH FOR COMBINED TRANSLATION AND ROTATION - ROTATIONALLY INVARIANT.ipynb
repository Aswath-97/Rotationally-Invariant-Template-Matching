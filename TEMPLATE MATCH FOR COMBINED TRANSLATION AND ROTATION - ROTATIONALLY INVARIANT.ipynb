{
 "cells": [
  {
   "cell_type": "code",
   "execution_count": 9,
   "id": "48e19075",
   "metadata": {},
   "outputs": [],
   "source": [
    "import cv2 \n",
    "import numpy as np\n",
    "import time"
   ]
  },
  {
   "cell_type": "code",
   "execution_count": 10,
   "id": "44e5d22d",
   "metadata": {},
   "outputs": [],
   "source": [
    "gray_img = cv2.imread(\"C:\\\\Users\\\\naray\\\\OneDrive\\\\Desktop\\\\Sensovision inetrnships\\\\Messikick.jpg\",0)\n",
    "\n",
    "template = cv2.imread(\"C:\\\\Users\\\\naray\\\\OneDrive\\\\Desktop\\\\Sensovision inetrnships\\\\football.jpg\",0)"
   ]
  },
  {
   "cell_type": "code",
   "execution_count": 11,
   "id": "b07f0643",
   "metadata": {},
   "outputs": [],
   "source": [
    "height,width = gray_img.shape[0:2]\n",
    "temp_height,temp_width = template.shape[0:2]"
   ]
  },
  {
   "cell_type": "code",
   "execution_count": 12,
   "id": "4683b94e",
   "metadata": {},
   "outputs": [],
   "source": [
    "center = (width/2,height/2)\n",
    "temp_center = (temp_height/2,temp_width/2)\n",
    "\n",
    "u = 1\n",
    "v = 1"
   ]
  },
  {
   "cell_type": "code",
   "execution_count": 13,
   "id": "f14030b5",
   "metadata": {},
   "outputs": [],
   "source": [
    "x = center[0]\n",
    "y = center[0]\n",
    "\n",
    "start_time = time.time()\n",
    "for theta in range(0,400,10) :\n",
    "    rot_matrix = cv2.getRotationMatrix2D((x,y),theta,1)\n",
    "    result = cv2.warpAffine(gray_img,rot_matrix,(width,height))\n",
    "    x = x + u*theta/10\n",
    "    y = y + v*theta/10\n",
    "    temp_rot_matrix = cv2.getRotationMatrix2D(temp_center,theta,1)\n",
    "    temp_result = cv2.warpAffine(template,temp_rot_matrix,(temp_width,temp_height))\n",
    "    \n",
    "    \n",
    "    match = cv2.matchTemplate(result,temp_result,cv2.TM_CCOEFF_NORMED)\n",
    "    match_loc = np.where(match>=0.95)\n",
    "    \n",
    "    for pt in zip(*match_loc[::-1]) :\n",
    "        cv2.drawMarker(result,pt,(255,255,255),20,20)\n",
    "    \n",
    "    cv2.imshow('resultant',result)\n",
    "    cv2.waitKey(100)\n",
    "    \n",
    "cv2.destroyAllWindows()\n",
    "end_time = time.time()"
   ]
  },
  {
   "cell_type": "code",
   "execution_count": 11,
   "id": "a2f59104",
   "metadata": {},
   "outputs": [
    {
     "name": "stdout",
     "output_type": "stream",
     "text": [
      "Help on built-in function matchTemplate:\n",
      "\n",
      "matchTemplate(...)\n",
      "    matchTemplate(image, templ, method[, result[, mask]]) -> result\n",
      "    .   @brief Compares a template against overlapped image regions.\n",
      "    .   \n",
      "    .   The function slides through image , compares the overlapped patches of size \\f$w \\times h\\f$ against\n",
      "    .   templ using the specified method and stores the comparison results in result . #TemplateMatchModes\n",
      "    .   describes the formulae for the available comparison methods ( \\f$I\\f$ denotes image, \\f$T\\f$\n",
      "    .   template, \\f$R\\f$ result, \\f$M\\f$ the optional mask ). The summation is done over template and/or\n",
      "    .   the image patch: \\f$x' = 0...w-1, y' = 0...h-1\\f$\n",
      "    .   \n",
      "    .   After the function finishes the comparison, the best matches can be found as global minimums (when\n",
      "    .   #TM_SQDIFF was used) or maximums (when #TM_CCORR or #TM_CCOEFF was used) using the\n",
      "    .   #minMaxLoc function. In case of a color image, template summation in the numerator and each sum in\n",
      "    .   the denominator is done over all of the channels and separate mean values are used for each channel.\n",
      "    .   That is, the function can take a color template and a color image. The result will still be a\n",
      "    .   single-channel image, which is easier to analyze.\n",
      "    .   \n",
      "    .   @param image Image where the search is running. It must be 8-bit or 32-bit floating-point.\n",
      "    .   @param templ Searched template. It must be not greater than the source image and have the same\n",
      "    .   data type.\n",
      "    .   @param result Map of comparison results. It must be single-channel 32-bit floating-point. If image\n",
      "    .   is \\f$W \\times H\\f$ and templ is \\f$w \\times h\\f$ , then result is \\f$(W-w+1) \\times (H-h+1)\\f$ .\n",
      "    .   @param method Parameter specifying the comparison method, see #TemplateMatchModes\n",
      "    .   @param mask Optional mask. It must have the same size as templ. It must either have the same number\n",
      "    .               of channels as template or only one channel, which is then used for all template and\n",
      "    .               image channels. If the data type is #CV_8U, the mask is interpreted as a binary mask,\n",
      "    .               meaning only elements where mask is nonzero are used and are kept unchanged independent\n",
      "    .               of the actual mask value (weight equals 1). For data tpye #CV_32F, the mask values are\n",
      "    .               used as weights. The exact formulas are documented in #TemplateMatchModes.\n",
      "\n"
     ]
    }
   ],
   "source": [
    "help(cv2.matchTemplate)"
   ]
  },
  {
   "cell_type": "code",
   "execution_count": 14,
   "id": "1063f5f2",
   "metadata": {},
   "outputs": [],
   "source": [
    "execution_time = end_time - start_time"
   ]
  },
  {
   "cell_type": "code",
   "execution_count": 15,
   "id": "86b0b356",
   "metadata": {},
   "outputs": [
    {
     "data": {
      "text/plain": [
       "4.818411827087402"
      ]
     },
     "execution_count": 15,
     "metadata": {},
     "output_type": "execute_result"
    }
   ],
   "source": [
    "execution_time"
   ]
  },
  {
   "cell_type": "code",
   "execution_count": null,
   "id": "a14ddae2",
   "metadata": {},
   "outputs": [],
   "source": []
  }
 ],
 "metadata": {
  "kernelspec": {
   "display_name": "Python 3 (ipykernel)",
   "language": "python",
   "name": "python3"
  },
  "language_info": {
   "codemirror_mode": {
    "name": "ipython",
    "version": 3
   },
   "file_extension": ".py",
   "mimetype": "text/x-python",
   "name": "python",
   "nbconvert_exporter": "python",
   "pygments_lexer": "ipython3",
   "version": "3.9.7"
  }
 },
 "nbformat": 4,
 "nbformat_minor": 5
}
